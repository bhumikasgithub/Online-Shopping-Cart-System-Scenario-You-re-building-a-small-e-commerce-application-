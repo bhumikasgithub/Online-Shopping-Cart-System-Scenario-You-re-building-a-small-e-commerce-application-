{
  "nbformat": 4,
  "nbformat_minor": 0,
  "metadata": {
    "colab": {
      "provenance": []
    },
    "kernelspec": {
      "name": "python3",
      "display_name": "Python 3"
    },
    "language_info": {
      "name": "python"
    }
  },
  "cells": [
    {
      "cell_type": "code",
      "execution_count": 1,
      "metadata": {
        "colab": {
          "base_uri": "https://localhost:8080/"
        },
        "id": "1dplPhN8PHyc",
        "outputId": "f786e5df-fdfc-4df2-bb89-4f55c4673d93"
      },
      "outputs": [
        {
          "output_type": "stream",
          "name": "stdout",
          "text": [
            "✅ Added 1 x Laptop to cart.\n",
            "✅ Added 2 x Laptop to cart.\n",
            "✅ Added 3 x Laptop to cart.\n",
            "✅ Added 4 x Laptop to cart.\n",
            "\n",
            "🧾 Cart for xyz\n",
            "- Laptop: ₹600 x 1\n",
            "- Laptop: ₹600 x 2\n",
            "- Laptop: ₹600 x 3\n",
            "- Laptop: ₹600 x 4\n",
            "Total: ₹6000\n",
            "❌ Removed Laptop from cart.\n",
            "🛒 Your cart is empty.\n",
            "🎉 After 10% discount: ₹0.00\n"
          ]
        },
        {
          "output_type": "execute_result",
          "data": {
            "text/plain": [
              "0.0"
            ]
          },
          "metadata": {},
          "execution_count": 1
        }
      ],
      "source": [
        "class ShoppingCart:\n",
        "    def __init__(self, customer_name):\n",
        "        self.customer_name = customer_name\n",
        "        self.items = []  # List to store (item_name, price, quantity)\n",
        "\n",
        "    def add_item(self, item_name, price, quantity=1):\n",
        "        self.items.append((item_name, price, quantity))\n",
        "        print(f\"✅ Added {quantity} x {item_name} to cart.\")\n",
        "\n",
        "    def remove_item(self, item_name):\n",
        "        self.items = [item for item in self.items if item[0] != item_name]\n",
        "        print(f\"❌ Removed {item_name} from cart.\")\n",
        "\n",
        "    def view_cart(self):\n",
        "        if not self.items:\n",
        "            print(\"🛒 Your cart is empty.\")\n",
        "            return\n",
        "\n",
        "        print(f\"\\n🧾 Cart for {self.customer_name}\")\n",
        "        for item_name, price, quantity in self.items:\n",
        "            print(f\"- {item_name}: ₹{price} x {quantity}\")\n",
        "        print(f\"Total: ₹{self.calculate_total()}\")\n",
        "\n",
        "    def calculate_total(self):\n",
        "        return sum(price * quantity for _, price, quantity in self.items)\n",
        "\n",
        "    def apply_discount(self, percent):\n",
        "        total = self.calculate_total()\n",
        "        discounted_total = total - (total * percent / 100)\n",
        "        print(f\"🎉 After {percent}% discount: ₹{discounted_total:.2f}\")\n",
        "        return discounted_total\n",
        "\n",
        "\n",
        "\n",
        "cart=ShoppingCart(\"xyz\")\n",
        "cart.add_item(\"Laptop\", 600, 1)\n",
        "\n",
        "cart.add_item(\"Laptop\", 600, 2)\n",
        "cart.add_item(\"Laptop\", 600, 3)\n",
        "cart.add_item(\"Laptop\", 600, 4)\n",
        "\n",
        "cart.view_cart()\n",
        "cart.remove_item(\"Laptop\")\n",
        "cart.view_cart()\n",
        "\n",
        "cart.apply_discount(10)"
      ]
    },
    {
      "cell_type": "code",
      "source": [],
      "metadata": {
        "id": "omd4g4IwPKkc"
      },
      "execution_count": null,
      "outputs": []
    }
  ]
}